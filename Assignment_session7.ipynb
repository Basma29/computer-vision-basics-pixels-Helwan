{
  "nbformat": 4,
  "nbformat_minor": 0,
  "metadata": {
    "colab": {
      "provenance": [],
      "include_colab_link": true
    },
    "kernelspec": {
      "name": "python3",
      "display_name": "Python 3"
    },
    "language_info": {
      "name": "python"
    }
  },
  "cells": [
    {
      "cell_type": "markdown",
      "metadata": {
        "id": "view-in-github",
        "colab_type": "text"
      },
      "source": [
        "<a href=\"https://colab.research.google.com/github/Basma29/computer-vision-basics-pixels-Helwan/blob/main/Assignment_session7.ipynb\" target=\"_parent\"><img src=\"https://colab.research.google.com/assets/colab-badge.svg\" alt=\"Open In Colab\"/></a>"
      ]
    },
    {
      "cell_type": "markdown",
      "source": [
        "# PSP-Intro to AI & Computer Vision\n",
        "\n",
        "\n",
        "# Assignment Session 7 - Intro to OpenCV"
      ],
      "metadata": {
        "id": "1aVl5CYCnvN5"
      }
    },
    {
      "cell_type": "markdown",
      "source": [
        "## Question 1"
      ],
      "metadata": {
        "id": "joCNic5yof75"
      }
    },
    {
      "cell_type": "markdown",
      "source": [
        "### Q: Create a frame-like effect by embedding a smaller version of the same image inside a black canvas.\n",
        "\n",
        "1. Load an image using \"cv2.imread\".\n",
        "2. Resize it to be smaller using \"cv2.resize\".\n",
        "3. Create a black canvas (larger than the image) with \"np.zeros\".\n",
        "4. Paste the resized image at the center of the canvas.\n",
        "5. Optionally add a border using \"cv2.rectangle\".\n",
        "6. Display the final image."
      ],
      "metadata": {
        "id": "slBN8ZB2oqit"
      }
    },
    {
      "cell_type": "code",
      "source": [
        "# enter code here"
      ],
      "metadata": {
        "id": "hOCILlw8pUj1"
      },
      "execution_count": null,
      "outputs": []
    },
    {
      "cell_type": "markdown",
      "source": [
        "## Question 2"
      ],
      "metadata": {
        "id": "veBAC4xEpaMB"
      }
    },
    {
      "cell_type": "markdown",
      "source": [
        "###Q: Detect and isolate red color from an image using the HSV color space.\n",
        "\n",
        "1. Read the image.\n",
        "2. Convert it to HSV using \"cv2.cvtColor\".\n",
        "3. Create a mask for the red color range using \"cv2.inRange\".\n",
        "4. Apply the mask using \"cv2.bitwise_and\".\n",
        "5. Display the original image, mask, and result\n",
        "\n",
        "\n"
      ],
      "metadata": {
        "id": "u0xIfkPNph16"
      }
    },
    {
      "cell_type": "code",
      "source": [
        "# enter code here"
      ],
      "metadata": {
        "id": "I8lrNGM_p1G7"
      },
      "execution_count": null,
      "outputs": []
    },
    {
      "cell_type": "markdown",
      "source": [
        "## Question 3"
      ],
      "metadata": {
        "id": "71qQcJW9qJy-"
      }
    },
    {
      "cell_type": "markdown",
      "source": [
        "### Q: Apply a blur only to a selected region (e.g. a face) in an image.\n",
        "\n",
        "\n",
        "1. Load an image.\n",
        "2. Manually select or define coordinates for the face area.\n",
        "3. Extract that region (cropping).\n",
        "4. Apply \"cv2.GaussianBlur“ to the region only.\n",
        "5. Replace the blurred region back into the original image.\n",
        "6. Display the result."
      ],
      "metadata": {
        "id": "MfBLLXtYsDaP"
      }
    },
    {
      "cell_type": "code",
      "source": [
        "# enter code here"
      ],
      "metadata": {
        "id": "cv3zzcIDsukm"
      },
      "execution_count": null,
      "outputs": []
    },
    {
      "cell_type": "markdown",
      "source": [
        "## Question 4"
      ],
      "metadata": {
        "id": "rRvjF6lis0ZV"
      }
    },
    {
      "cell_type": "markdown",
      "source": [
        "### Q: Create a sketch-like effect using edge detection.\n",
        "\n",
        "1. Load and convert the image to grayscale.\n",
        "2. Apply `cv2.GaussianBlur` to reduce noise.\n",
        "3. Use `cv2.Canny` to detect edges.\n",
        "4. Invert the result using `255 - edges`.\n",
        "5. Display the final sketch effect."
      ],
      "metadata": {
        "id": "dXwchi9Rs_Pk"
      }
    },
    {
      "cell_type": "code",
      "source": [
        "# enter code here"
      ],
      "metadata": {
        "id": "iTYlYebmtMu0"
      },
      "execution_count": null,
      "outputs": []
    },
    {
      "cell_type": "markdown",
      "source": [
        "## Question 5"
      ],
      "metadata": {
        "id": "xYnmd5w6uRyT"
      }
    },
    {
      "cell_type": "markdown",
      "source": [
        "###Q: Track different colors using the webcam – change the tracked color based on keyboard input.\n",
        "\n",
        "1. Open the webcam using 'cv2.VideoCapture'.\n",
        "2. Convert each frame to HSV.\n",
        "3. Start by tracking one color (e.g., blue).\n",
        "4. When the user presses a key (e.g., `g` or `r`), change the tracked color to green or red.\n",
        "5. Display the live mask and tracking."
      ],
      "metadata": {
        "id": "JpUHoUq7tQLv"
      }
    },
    {
      "cell_type": "code",
      "source": [
        "# enter code here"
      ],
      "metadata": {
        "id": "FRT2U2KquNYQ"
      },
      "execution_count": null,
      "outputs": []
    },
    {
      "cell_type": "markdown",
      "source": [
        "## Question 6"
      ],
      "metadata": {
        "id": "hBe4jG5QuX_m"
      }
    },
    {
      "cell_type": "markdown",
      "source": [
        "## **Challenge Question: Drawing Board Using Webcam**\n",
        "\n",
        "1.\tOpen webcam and convert frames to HSV.\n",
        "Detect a specific color (e.g. blue) using a mask.\n",
        "2. Track the color's position using contours.\n",
        "3. Draw points on a blank canvas at the tracked position.\n",
        "4. Combine the canvas with the webcam feed and display.\n",
        "5. Loop until a key is pressed to exit.\n"
      ],
      "metadata": {
        "id": "vJj5ETohud0d"
      }
    },
    {
      "cell_type": "code",
      "source": [
        "# enter code here"
      ],
      "metadata": {
        "id": "hKiu1D-KvmHg"
      },
      "execution_count": null,
      "outputs": []
    },
    {
      "cell_type": "markdown",
      "source": [
        "### **good luck ;)**"
      ],
      "metadata": {
        "id": "zCTyzYgK9Jx4"
      }
    }
  ]
}